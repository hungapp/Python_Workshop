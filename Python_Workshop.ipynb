{
 "cells": [
  {
   "cell_type": "markdown",
   "metadata": {
    "colab_type": "text",
    "id": "Xuve2iONfU_J"
   },
   "source": [
    "### Some Basic Commands"
   ]
  },
  {
   "cell_type": "code",
   "execution_count": 7,
   "metadata": {
    "colab": {
     "autoexec": {
      "startup": false,
      "wait_interval": 0
     }
    },
    "colab_type": "code",
    "id": "xqcmODWLfU_O"
   },
   "outputs": [
    {
     "name": "stdout",
     "output_type": "stream",
     "text": [
      "Hello World!\n",
      "My name is Nathan\n",
      "What's your name?'Mike\n"
     ]
    }
   ],
   "source": [
    "# Do this then do that\n",
    "print(\"Hello World!\")\n",
    "print(\"My name is Nathan\")\n",
    "name = input(\"What\\'s your name?'\")"
   ]
  },
  {
   "cell_type": "code",
   "execution_count": 8,
   "metadata": {
    "colab": {
     "autoexec": {
      "startup": false,
      "wait_interval": 0
     }
    },
    "colab_type": "code",
    "id": "ZFpio9cCmeUE"
   },
   "outputs": [
    {
     "name": "stdout",
     "output_type": "stream",
     "text": [
      "Hello stranger, I dunno you\n"
     ]
    }
   ],
   "source": [
    "# If this condition is true, perform this action; otherwise, do that action\n",
    "if(name == \"Nathan\"):\n",
    "    print(\"Hey bud!\")\n",
    "else:\n",
    "    print(\"Hello stranger, I dunno you\")"
   ]
  },
  {
   "cell_type": "code",
   "execution_count": 9,
   "metadata": {
    "colab": {
     "autoexec": {
      "startup": false,
      "wait_interval": 0
     }
    },
    "colab_type": "code",
    "id": "p1rATbIFmegf"
   },
   "outputs": [
    {
     "name": "stdout",
     "output_type": "stream",
     "text": [
      "0\n",
      "1\n",
      "2\n",
      "3\n",
      "4\n",
      "5\n",
      "6\n",
      "7\n",
      "8\n",
      "9\n"
     ]
    }
   ],
   "source": [
    "# Do this action that number of times\n",
    "for i in range(10):\n",
    "    print(i)"
   ]
  },
  {
   "cell_type": "code",
   "execution_count": 10,
   "metadata": {
    "colab": {
     "autoexec": {
      "startup": false,
      "wait_interval": 0
     }
    },
    "colab_type": "code",
    "id": "dWUh-ZTTmewO"
   },
   "outputs": [
    {
     "name": "stdout",
     "output_type": "stream",
     "text": [
      "0\n",
      "1\n",
      "2\n",
      "3\n",
      "4\n",
      "5\n",
      "6\n",
      "7\n",
      "8\n",
      "9\n"
     ]
    }
   ],
   "source": [
    "# Keep doing that until this condition is true\n",
    "i = 0\n",
    "while(i < 10):\n",
    "    print(i)\n",
    "    i = i + 1\n",
    "    "
   ]
  },
  {
   "cell_type": "markdown",
   "metadata": {
    "colab_type": "text",
    "id": "X87SZMJ7fU_a"
   },
   "source": [
    "### Practice with \"Factorial Calculator\"\n",
    "\n",
    "> For instance, \"four factorial\" is written as \"4!\" and means 1×2×3×4 = 24. In general, n! (\"enn factorial\") means the product of all the whole numbers from 1 to n; that is, n! = 1×2×3×...×n. (For various reasons, 0! is defined to be equal to 1, not 0)\n",
    "\n",
    "Now, you have to code a factorial calculator. Hint: you can do it in at least 3 ways."
   ]
  },
  {
   "cell_type": "code",
   "execution_count": 2,
   "metadata": {
    "colab": {
     "autoexec": {
      "startup": false,
      "wait_interval": 0
     }
    },
    "colab_type": "code",
    "id": "HmHslOvJfU_d"
   },
   "outputs": [
    {
     "name": "stdout",
     "output_type": "stream",
     "text": [
      "6\n",
      "3628800\n",
      "3628800\n"
     ]
    }
   ],
   "source": [
    "def factorial1(n):\n",
    "    result = 1\n",
    "    for i in range(n):\n",
    "        result = result * (i+1)\n",
    "    return result\n",
    "print(factorial1(3))\n",
    "\n",
    "def factorial2(n):\n",
    "    if (n == 0):\n",
    "        return 1\n",
    "    return n*factorial2(n-1)\n",
    "print(factorial2(10))\n",
    "\n",
    "import math as m\n",
    "print(m.factorial(10))"
   ]
  },
  {
   "cell_type": "code",
   "execution_count": null,
   "metadata": {},
   "outputs": [],
   "source": []
  },
  {
   "cell_type": "code",
   "execution_count": null,
   "metadata": {},
   "outputs": [],
   "source": []
  },
  {
   "cell_type": "markdown",
   "metadata": {
    "colab_type": "text",
    "id": "JTpA0Dp5fU_m"
   },
   "source": [
    "### Hands-on Example Analyzing a Sales Data Set"
   ]
  },
  {
   "cell_type": "markdown",
   "metadata": {
    "colab_type": "text",
    "id": "CNPswbFUfU_p"
   },
   "source": [
    "#### 1. import the dataset"
   ]
  },
  {
   "cell_type": "code",
   "execution_count": 20,
   "metadata": {
    "colab": {
     "autoexec": {
      "startup": false,
      "wait_interval": 0
     }
    },
    "colab_type": "code",
    "id": "0s2IbduloGqd"
   },
   "outputs": [],
   "source": [
    "import pandas as pd\n",
    "import numpy as np\n",
    "import matplotlib.pyplot as plt"
   ]
  },
  {
   "cell_type": "code",
   "execution_count": 21,
   "metadata": {
    "colab": {
     "autoexec": {
      "startup": false,
      "wait_interval": 0
     }
    },
    "colab_type": "code",
    "id": "Nn9gE0-ioLm3"
   },
   "outputs": [
    {
     "name": "stdout",
     "output_type": "stream",
     "text": [
      "     account number                           name       sku category  \\\n",
      "0            296809                    Carroll PLC  QN-82852     Belt   \n",
      "1             98022              Heidenreich-Bosco  MJ-21460    Shoes   \n",
      "2            563905  Kerluke, Reilly and Bechtelar  AS-93055    Shirt   \n",
      "3             93356                  Waters-Walker  AS-93055    Shirt   \n",
      "4            659366                  Waelchi-Fahey  AS-93055    Shirt   \n",
      "5            563905  Kerluke, Reilly and Bechtelar  AS-93055    Shirt   \n",
      "6            995267                  Cole-Eichmann  GS-86623    Shoes   \n",
      "7            524021               Hegmann and Sons  LL-46261    Shoes   \n",
      "8            929400  Senger, Upton and Breitenberg  LW-86841    Shoes   \n",
      "9            563905  Kerluke, Reilly and Bechtelar  KV-99194    Shirt   \n",
      "10           995267                  Cole-Eichmann  KV-99194    Shirt   \n",
      "11           524021               Hegmann and Sons  QN-82852     Belt   \n",
      "12           758133      Kihn, McClure and Denesik  LL-46261    Shoes   \n",
      "13           555594   Ernser, Cruickshank and Lind  FK-71853    Shirt   \n",
      "14           201259                    Koelpin PLC  GS-86623    Shoes   \n",
      "15            93356                  Waters-Walker  LL-46261    Shoes   \n",
      "16           563905  Kerluke, Reilly and Bechtelar  KV-99194    Shirt   \n",
      "17           201259                    Koelpin PLC  KV-99194    Shirt   \n",
      "18           758133      Kihn, McClure and Denesik  WJ-02096     Belt   \n",
      "19           296809                    Carroll PLC  VG-32047    Shirt   \n",
      "20           750461     Volkman, Goyette and Lemke  WJ-02096     Belt   \n",
      "21           929400  Senger, Upton and Breitenberg  LL-46261    Shoes   \n",
      "22           563905  Kerluke, Reilly and Bechtelar  MJ-21460    Shoes   \n",
      "23           734922                      Berge LLC  QN-82852     Belt   \n",
      "24           296809                    Carroll PLC  AS-93055    Shirt   \n",
      "25           304860                      Huel-Haag  QN-82852     Belt   \n",
      "26           563905  Kerluke, Reilly and Bechtelar  VG-32047    Shirt   \n",
      "27           750461     Volkman, Goyette and Lemke  LL-46261    Shoes   \n",
      "28           850140                      Kunze Inc  KV-99194    Shirt   \n",
      "29           115138                  Gorczany-Hahn  VG-32047    Shirt   \n",
      "..              ...                            ...       ...      ...   \n",
      "970          758133      Kihn, McClure and Denesik  WJ-02096     Belt   \n",
      "971          563905  Kerluke, Reilly and Bechtelar  GS-86623    Shoes   \n",
      "972          711951                Kilback-Gerlach  LW-86841    Shoes   \n",
      "973           93356                  Waters-Walker  AS-93055    Shirt   \n",
      "974           98022              Heidenreich-Bosco  VG-32047    Shirt   \n",
      "975          296809                    Carroll PLC  LL-46261    Shoes   \n",
      "976          758133      Kihn, McClure and Denesik  LW-86841    Shoes   \n",
      "977          524021               Hegmann and Sons  MJ-21460    Shoes   \n",
      "978          305803     Davis, Kshlerin and Reilly  AS-93055    Shirt   \n",
      "979          304860                      Huel-Haag  QN-82852     Belt   \n",
      "980          929400  Senger, Upton and Breitenberg  QN-82852     Belt   \n",
      "981          299771          Kuphal, Zieme and Kub  QN-82852     Belt   \n",
      "982          115138                  Gorczany-Hahn  VG-32047    Shirt   \n",
      "983          758133      Kihn, McClure and Denesik  LL-46261    Shoes   \n",
      "984          711951                Kilback-Gerlach  VG-32047    Shirt   \n",
      "985          929400  Senger, Upton and Breitenberg  GS-86623    Shoes   \n",
      "986           93356                  Waters-Walker  KV-99194    Shirt   \n",
      "987           98022              Heidenreich-Bosco  QN-82852     Belt   \n",
      "988          734922                      Berge LLC  GS-86623    Shoes   \n",
      "989          995267                  Cole-Eichmann  LW-86841    Shoes   \n",
      "990           93356                  Waters-Walker  AS-93055    Shirt   \n",
      "991          304860                      Huel-Haag  QN-82852     Belt   \n",
      "992          850140                      Kunze Inc  KV-99194    Shirt   \n",
      "993          659366                  Waelchi-Fahey  LW-86841    Shoes   \n",
      "994          296809                    Carroll PLC  WJ-02096     Belt   \n",
      "995          758133      Kihn, McClure and Denesik  WJ-02096     Belt   \n",
      "996          850140                      Kunze Inc  GS-86623    Shoes   \n",
      "997           93356                  Waters-Walker  GS-86623    Shoes   \n",
      "998          304860                      Huel-Haag  LL-46261    Shoes   \n",
      "999           98022              Heidenreich-Bosco  LW-86841    Shoes   \n",
      "\n",
      "     quantity  unit price  ext price                date  \n",
      "0          13       44.48     578.24 2014-09-27 07:13:03  \n",
      "1          19       53.62    1018.78 2014-07-29 02:10:44  \n",
      "2          12       24.16     289.92 2014-03-01 10:51:24  \n",
      "3           5       82.68     413.40 2013-11-17 20:41:11  \n",
      "4          18       99.64    1793.52 2014-01-03 08:14:27  \n",
      "5          17       52.82     897.94 2013-12-04 02:07:05  \n",
      "6          18       15.28     275.04 2014-04-09 16:15:03  \n",
      "7           7       78.78     551.46 2014-06-18 19:25:10  \n",
      "8          17       38.19     649.23 2014-02-10 05:55:56  \n",
      "9          12       26.98     323.76 2014-05-20 00:21:28  \n",
      "10         19       60.22    1144.18 2014-03-10 06:23:31  \n",
      "11          6       13.12      78.72 2013-11-03 18:38:16  \n",
      "12          4       59.69     238.76 2014-01-11 21:48:28  \n",
      "13         12       97.25    1167.00 2014-09-19 13:20:00  \n",
      "14          9       81.44     732.96 2014-08-12 08:05:27  \n",
      "15         18       53.33     959.94 2014-07-15 23:21:11  \n",
      "16          4       35.62     142.48 2014-10-05 23:38:16  \n",
      "17         17       98.23    1669.91 2014-01-26 01:52:36  \n",
      "18         15       69.52    1042.80 2013-11-13 21:38:46  \n",
      "19         12       80.12     961.44 2014-05-24 16:03:28  \n",
      "20         13       81.19    1055.47 2014-01-08 02:45:07  \n",
      "21          2       48.15      96.30 2014-04-28 07:01:04  \n",
      "22          1       54.94      54.94 2014-08-09 11:22:15  \n",
      "23          4       57.75     231.00 2013-11-04 09:48:26  \n",
      "24         14       47.68     667.52 2014-01-12 00:28:09  \n",
      "25          2       41.40      82.80 2014-09-23 02:36:55  \n",
      "26          6       58.52     351.12 2014-03-14 02:28:57  \n",
      "27         12       96.62    1159.44 2013-12-13 03:19:19  \n",
      "28         12       93.67    1124.04 2014-02-19 06:03:09  \n",
      "29         12       72.63     871.56 2014-02-07 03:30:14  \n",
      "..        ...         ...        ...                 ...  \n",
      "970        15       51.35     770.25 2014-05-13 12:39:44  \n",
      "971        16       90.96    1455.36 2013-11-02 09:19:40  \n",
      "972        12       22.81     273.72 2014-09-17 02:46:57  \n",
      "973        19       28.76     546.44 2013-12-19 19:43:07  \n",
      "974         2       35.71      71.42 2014-07-03 03:16:33  \n",
      "975         9       32.75     294.75 2014-02-08 10:48:21  \n",
      "976         2       92.23     184.46 2014-02-18 03:57:38  \n",
      "977        12       18.24     218.88 2014-05-01 16:46:03  \n",
      "978         6       49.81     298.86 2013-11-01 16:31:25  \n",
      "979         2       22.38      44.76 2014-01-23 23:47:01  \n",
      "980        10       25.65     256.50 2013-12-20 14:10:18  \n",
      "981        12       37.50     450.00 2013-12-30 04:04:50  \n",
      "982        20       72.35    1447.00 2014-08-11 19:02:14  \n",
      "983         2       48.21      96.42 2014-09-16 16:12:02  \n",
      "984         1       91.96      91.96 2013-10-23 15:08:31  \n",
      "985         7       62.27     435.89 2013-12-30 01:55:14  \n",
      "986        20       99.74    1994.80 2014-04-18 15:39:12  \n",
      "987        15       82.82    1242.30 2014-03-27 04:42:40  \n",
      "988         8       85.04     680.32 2014-02-26 14:43:51  \n",
      "989        10       73.24     732.40 2014-06-07 10:04:53  \n",
      "990         9       68.62     617.58 2014-08-12 08:06:21  \n",
      "991         1       57.33      57.33 2014-08-27 11:27:28  \n",
      "992         9       27.16     244.44 2014-02-08 06:22:34  \n",
      "993        10       56.56     565.60 2014-10-01 11:38:04  \n",
      "994        20       14.37     287.40 2014-07-20 17:22:03  \n",
      "995        11       60.50     665.50 2014-08-03 10:39:51  \n",
      "996        16       19.66     314.56 2014-05-03 21:18:15  \n",
      "997        13       90.95    1182.35 2014-06-14 12:43:51  \n",
      "998         9       98.22     883.98 2014-07-26 01:10:57  \n",
      "999        14       74.83    1047.62 2014-06-27 05:58:33  \n",
      "\n",
      "[1000 rows x 8 columns]\n"
     ]
    }
   ],
   "source": [
    "raw = pd.read_csv('sample-sales.csv', parse_dates=['date'])\n",
    "print(raw)"
   ]
  },
  {
   "cell_type": "markdown",
   "metadata": {
    "colab_type": "text",
    "id": "FHX8r2fifU_z"
   },
   "source": [
    "#### 2. get a brief grasp of the dataset"
   ]
  },
  {
   "cell_type": "code",
   "execution_count": 23,
   "metadata": {
    "colab": {
     "autoexec": {
      "startup": false,
      "wait_interval": 0
     }
    },
    "colab_type": "code",
    "id": "K9RzwzHQfU_1"
   },
   "outputs": [
    {
     "data": {
      "text/html": [
       "<div>\n",
       "<style scoped>\n",
       "    .dataframe tbody tr th:only-of-type {\n",
       "        vertical-align: middle;\n",
       "    }\n",
       "\n",
       "    .dataframe tbody tr th {\n",
       "        vertical-align: top;\n",
       "    }\n",
       "\n",
       "    .dataframe thead th {\n",
       "        text-align: right;\n",
       "    }\n",
       "</style>\n",
       "<table border=\"1\" class=\"dataframe\">\n",
       "  <thead>\n",
       "    <tr style=\"text-align: right;\">\n",
       "      <th></th>\n",
       "      <th>account number</th>\n",
       "      <th>name</th>\n",
       "      <th>sku</th>\n",
       "      <th>category</th>\n",
       "      <th>quantity</th>\n",
       "      <th>unit price</th>\n",
       "      <th>ext price</th>\n",
       "      <th>date</th>\n",
       "    </tr>\n",
       "  </thead>\n",
       "  <tbody>\n",
       "    <tr>\n",
       "      <th>0</th>\n",
       "      <td>296809</td>\n",
       "      <td>Carroll PLC</td>\n",
       "      <td>QN-82852</td>\n",
       "      <td>Belt</td>\n",
       "      <td>13</td>\n",
       "      <td>44.48</td>\n",
       "      <td>578.24</td>\n",
       "      <td>2014-09-27 07:13:03</td>\n",
       "    </tr>\n",
       "    <tr>\n",
       "      <th>1</th>\n",
       "      <td>98022</td>\n",
       "      <td>Heidenreich-Bosco</td>\n",
       "      <td>MJ-21460</td>\n",
       "      <td>Shoes</td>\n",
       "      <td>19</td>\n",
       "      <td>53.62</td>\n",
       "      <td>1018.78</td>\n",
       "      <td>2014-07-29 02:10:44</td>\n",
       "    </tr>\n",
       "    <tr>\n",
       "      <th>2</th>\n",
       "      <td>563905</td>\n",
       "      <td>Kerluke, Reilly and Bechtelar</td>\n",
       "      <td>AS-93055</td>\n",
       "      <td>Shirt</td>\n",
       "      <td>12</td>\n",
       "      <td>24.16</td>\n",
       "      <td>289.92</td>\n",
       "      <td>2014-03-01 10:51:24</td>\n",
       "    </tr>\n",
       "    <tr>\n",
       "      <th>3</th>\n",
       "      <td>93356</td>\n",
       "      <td>Waters-Walker</td>\n",
       "      <td>AS-93055</td>\n",
       "      <td>Shirt</td>\n",
       "      <td>5</td>\n",
       "      <td>82.68</td>\n",
       "      <td>413.40</td>\n",
       "      <td>2013-11-17 20:41:11</td>\n",
       "    </tr>\n",
       "    <tr>\n",
       "      <th>4</th>\n",
       "      <td>659366</td>\n",
       "      <td>Waelchi-Fahey</td>\n",
       "      <td>AS-93055</td>\n",
       "      <td>Shirt</td>\n",
       "      <td>18</td>\n",
       "      <td>99.64</td>\n",
       "      <td>1793.52</td>\n",
       "      <td>2014-01-03 08:14:27</td>\n",
       "    </tr>\n",
       "  </tbody>\n",
       "</table>\n",
       "</div>"
      ],
      "text/plain": [
       "   account number                           name       sku category  quantity  \\\n",
       "0          296809                    Carroll PLC  QN-82852     Belt        13   \n",
       "1           98022              Heidenreich-Bosco  MJ-21460    Shoes        19   \n",
       "2          563905  Kerluke, Reilly and Bechtelar  AS-93055    Shirt        12   \n",
       "3           93356                  Waters-Walker  AS-93055    Shirt         5   \n",
       "4          659366                  Waelchi-Fahey  AS-93055    Shirt        18   \n",
       "\n",
       "   unit price  ext price                date  \n",
       "0       44.48     578.24 2014-09-27 07:13:03  \n",
       "1       53.62    1018.78 2014-07-29 02:10:44  \n",
       "2       24.16     289.92 2014-03-01 10:51:24  \n",
       "3       82.68     413.40 2013-11-17 20:41:11  \n",
       "4       99.64    1793.52 2014-01-03 08:14:27  "
      ]
     },
     "execution_count": 23,
     "metadata": {},
     "output_type": "execute_result"
    }
   ],
   "source": [
    "raw.head()"
   ]
  },
  {
   "cell_type": "code",
   "execution_count": 25,
   "metadata": {},
   "outputs": [
    {
     "data": {
      "text/plain": [
       "(1000, 8)"
      ]
     },
     "execution_count": 25,
     "metadata": {},
     "output_type": "execute_result"
    }
   ],
   "source": [
    "raw.shape"
   ]
  },
  {
   "cell_type": "code",
   "execution_count": 28,
   "metadata": {},
   "outputs": [
    {
     "data": {
      "text/html": [
       "<div>\n",
       "<style scoped>\n",
       "    .dataframe tbody tr th:only-of-type {\n",
       "        vertical-align: middle;\n",
       "    }\n",
       "\n",
       "    .dataframe tbody tr th {\n",
       "        vertical-align: top;\n",
       "    }\n",
       "\n",
       "    .dataframe thead th {\n",
       "        text-align: right;\n",
       "    }\n",
       "</style>\n",
       "<table border=\"1\" class=\"dataframe\">\n",
       "  <thead>\n",
       "    <tr style=\"text-align: right;\">\n",
       "      <th></th>\n",
       "      <th>account number</th>\n",
       "      <th>name</th>\n",
       "      <th>sku</th>\n",
       "      <th>category</th>\n",
       "      <th>quantity</th>\n",
       "      <th>unit price</th>\n",
       "      <th>ext price</th>\n",
       "      <th>date</th>\n",
       "    </tr>\n",
       "  </thead>\n",
       "  <tbody>\n",
       "    <tr>\n",
       "      <th>0</th>\n",
       "      <td>296809</td>\n",
       "      <td>Carroll PLC</td>\n",
       "      <td>QN-82852</td>\n",
       "      <td>Belt</td>\n",
       "      <td>13</td>\n",
       "      <td>44.48</td>\n",
       "      <td>578.24</td>\n",
       "      <td>2014-09-27 07:13:03</td>\n",
       "    </tr>\n",
       "    <tr>\n",
       "      <th>1</th>\n",
       "      <td>98022</td>\n",
       "      <td>Heidenreich-Bosco</td>\n",
       "      <td>MJ-21460</td>\n",
       "      <td>Shoes</td>\n",
       "      <td>19</td>\n",
       "      <td>53.62</td>\n",
       "      <td>1018.78</td>\n",
       "      <td>2014-07-29 02:10:44</td>\n",
       "    </tr>\n",
       "    <tr>\n",
       "      <th>2</th>\n",
       "      <td>563905</td>\n",
       "      <td>Kerluke, Reilly and Bechtelar</td>\n",
       "      <td>AS-93055</td>\n",
       "      <td>Shirt</td>\n",
       "      <td>12</td>\n",
       "      <td>24.16</td>\n",
       "      <td>289.92</td>\n",
       "      <td>2014-03-01 10:51:24</td>\n",
       "    </tr>\n",
       "    <tr>\n",
       "      <th>3</th>\n",
       "      <td>93356</td>\n",
       "      <td>Waters-Walker</td>\n",
       "      <td>AS-93055</td>\n",
       "      <td>Shirt</td>\n",
       "      <td>5</td>\n",
       "      <td>82.68</td>\n",
       "      <td>413.40</td>\n",
       "      <td>2013-11-17 20:41:11</td>\n",
       "    </tr>\n",
       "    <tr>\n",
       "      <th>4</th>\n",
       "      <td>659366</td>\n",
       "      <td>Waelchi-Fahey</td>\n",
       "      <td>AS-93055</td>\n",
       "      <td>Shirt</td>\n",
       "      <td>18</td>\n",
       "      <td>99.64</td>\n",
       "      <td>1793.52</td>\n",
       "      <td>2014-01-03 08:14:27</td>\n",
       "    </tr>\n",
       "  </tbody>\n",
       "</table>\n",
       "</div>"
      ],
      "text/plain": [
       "   account number                           name       sku category  quantity  \\\n",
       "0          296809                    Carroll PLC  QN-82852     Belt        13   \n",
       "1           98022              Heidenreich-Bosco  MJ-21460    Shoes        19   \n",
       "2          563905  Kerluke, Reilly and Bechtelar  AS-93055    Shirt        12   \n",
       "3           93356                  Waters-Walker  AS-93055    Shirt         5   \n",
       "4          659366                  Waelchi-Fahey  AS-93055    Shirt        18   \n",
       "\n",
       "   unit price  ext price                date  \n",
       "0       44.48     578.24 2014-09-27 07:13:03  \n",
       "1       53.62    1018.78 2014-07-29 02:10:44  \n",
       "2       24.16     289.92 2014-03-01 10:51:24  \n",
       "3       82.68     413.40 2013-11-17 20:41:11  \n",
       "4       99.64    1793.52 2014-01-03 08:14:27  "
      ]
     },
     "execution_count": 28,
     "metadata": {},
     "output_type": "execute_result"
    }
   ],
   "source": [
    "raw.describe().T\n",
    "raw.head()"
   ]
  },
  {
   "cell_type": "markdown",
   "metadata": {
    "colab_type": "text",
    "id": "GcPKRDWHIf3j"
   },
   "source": [
    "#### 3. add a feature to the data set\n",
    "If I decide that all customers buying more than 10 items at a time is a whole sale customer, so how can I tag and count the number of whole sale customer ?"
   ]
  },
  {
   "cell_type": "code",
   "execution_count": 30,
   "metadata": {
    "colab": {
     "autoexec": {
      "startup": false,
      "wait_interval": 0
     }
    },
    "colab_type": "code",
    "id": "__5JXNG0IvLX"
   },
   "outputs": [
    {
     "data": {
      "text/html": [
       "<div>\n",
       "<style scoped>\n",
       "    .dataframe tbody tr th:only-of-type {\n",
       "        vertical-align: middle;\n",
       "    }\n",
       "\n",
       "    .dataframe tbody tr th {\n",
       "        vertical-align: top;\n",
       "    }\n",
       "\n",
       "    .dataframe thead th {\n",
       "        text-align: right;\n",
       "    }\n",
       "</style>\n",
       "<table border=\"1\" class=\"dataframe\">\n",
       "  <thead>\n",
       "    <tr style=\"text-align: right;\">\n",
       "      <th></th>\n",
       "      <th>account number</th>\n",
       "      <th>name</th>\n",
       "      <th>sku</th>\n",
       "      <th>category</th>\n",
       "      <th>quantity</th>\n",
       "      <th>unit price</th>\n",
       "      <th>ext price</th>\n",
       "      <th>date</th>\n",
       "      <th>wholesale</th>\n",
       "    </tr>\n",
       "  </thead>\n",
       "  <tbody>\n",
       "    <tr>\n",
       "      <th>0</th>\n",
       "      <td>296809</td>\n",
       "      <td>Carroll PLC</td>\n",
       "      <td>QN-82852</td>\n",
       "      <td>Belt</td>\n",
       "      <td>13</td>\n",
       "      <td>44.48</td>\n",
       "      <td>578.24</td>\n",
       "      <td>2014-09-27 07:13:03</td>\n",
       "      <td>True</td>\n",
       "    </tr>\n",
       "    <tr>\n",
       "      <th>1</th>\n",
       "      <td>98022</td>\n",
       "      <td>Heidenreich-Bosco</td>\n",
       "      <td>MJ-21460</td>\n",
       "      <td>Shoes</td>\n",
       "      <td>19</td>\n",
       "      <td>53.62</td>\n",
       "      <td>1018.78</td>\n",
       "      <td>2014-07-29 02:10:44</td>\n",
       "      <td>True</td>\n",
       "    </tr>\n",
       "    <tr>\n",
       "      <th>2</th>\n",
       "      <td>563905</td>\n",
       "      <td>Kerluke, Reilly and Bechtelar</td>\n",
       "      <td>AS-93055</td>\n",
       "      <td>Shirt</td>\n",
       "      <td>12</td>\n",
       "      <td>24.16</td>\n",
       "      <td>289.92</td>\n",
       "      <td>2014-03-01 10:51:24</td>\n",
       "      <td>True</td>\n",
       "    </tr>\n",
       "    <tr>\n",
       "      <th>3</th>\n",
       "      <td>93356</td>\n",
       "      <td>Waters-Walker</td>\n",
       "      <td>AS-93055</td>\n",
       "      <td>Shirt</td>\n",
       "      <td>5</td>\n",
       "      <td>82.68</td>\n",
       "      <td>413.40</td>\n",
       "      <td>2013-11-17 20:41:11</td>\n",
       "      <td>False</td>\n",
       "    </tr>\n",
       "    <tr>\n",
       "      <th>4</th>\n",
       "      <td>659366</td>\n",
       "      <td>Waelchi-Fahey</td>\n",
       "      <td>AS-93055</td>\n",
       "      <td>Shirt</td>\n",
       "      <td>18</td>\n",
       "      <td>99.64</td>\n",
       "      <td>1793.52</td>\n",
       "      <td>2014-01-03 08:14:27</td>\n",
       "      <td>True</td>\n",
       "    </tr>\n",
       "  </tbody>\n",
       "</table>\n",
       "</div>"
      ],
      "text/plain": [
       "   account number                           name       sku category  quantity  \\\n",
       "0          296809                    Carroll PLC  QN-82852     Belt        13   \n",
       "1           98022              Heidenreich-Bosco  MJ-21460    Shoes        19   \n",
       "2          563905  Kerluke, Reilly and Bechtelar  AS-93055    Shirt        12   \n",
       "3           93356                  Waters-Walker  AS-93055    Shirt         5   \n",
       "4          659366                  Waelchi-Fahey  AS-93055    Shirt        18   \n",
       "\n",
       "   unit price  ext price                date wholesale  \n",
       "0       44.48     578.24 2014-09-27 07:13:03      True  \n",
       "1       53.62    1018.78 2014-07-29 02:10:44      True  \n",
       "2       24.16     289.92 2014-03-01 10:51:24      True  \n",
       "3       82.68     413.40 2013-11-17 20:41:11     False  \n",
       "4       99.64    1793.52 2014-01-03 08:14:27      True  "
      ]
     },
     "execution_count": 30,
     "metadata": {},
     "output_type": "execute_result"
    }
   ],
   "source": [
    "for i in raw.index:\n",
    "    if (raw.at[i,'quantity'] > 10):\n",
    "        raw.at[i,'wholesale'] = True\n",
    "    else:\n",
    "        raw.at[i,'wholesale'] = False\n",
    "raw.head()\n"
   ]
  },
  {
   "cell_type": "code",
   "execution_count": 32,
   "metadata": {},
   "outputs": [
    {
     "data": {
      "text/plain": [
       "wholesale\n",
       "False    510\n",
       "True     490\n",
       "dtype: int64"
      ]
     },
     "execution_count": 32,
     "metadata": {},
     "output_type": "execute_result"
    }
   ],
   "source": [
    "wholesale_customers = raw.groupby('wholesale')\n",
    "wholesale_customers.size()"
   ]
  },
  {
   "cell_type": "code",
   "execution_count": null,
   "metadata": {},
   "outputs": [],
   "source": []
  },
  {
   "cell_type": "markdown",
   "metadata": {
    "colab_type": "text",
    "id": "ThG5fqhPfU_9"
   },
   "source": [
    "#### 4. plot data"
   ]
  },
  {
   "cell_type": "code",
   "execution_count": 33,
   "metadata": {
    "colab": {
     "autoexec": {
      "startup": false,
      "wait_interval": 0
     }
    },
    "colab_type": "code",
    "id": "i0GRD9JlfVAA"
   },
   "outputs": [
    {
     "data": {
      "text/html": [
       "<div>\n",
       "<style scoped>\n",
       "    .dataframe tbody tr th:only-of-type {\n",
       "        vertical-align: middle;\n",
       "    }\n",
       "\n",
       "    .dataframe tbody tr th {\n",
       "        vertical-align: top;\n",
       "    }\n",
       "\n",
       "    .dataframe thead th {\n",
       "        text-align: right;\n",
       "    }\n",
       "</style>\n",
       "<table border=\"1\" class=\"dataframe\">\n",
       "  <thead>\n",
       "    <tr style=\"text-align: right;\">\n",
       "      <th></th>\n",
       "      <th>name</th>\n",
       "      <th>ext price</th>\n",
       "      <th>category</th>\n",
       "      <th>date</th>\n",
       "    </tr>\n",
       "  </thead>\n",
       "  <tbody>\n",
       "    <tr>\n",
       "      <th>0</th>\n",
       "      <td>Carroll PLC</td>\n",
       "      <td>578.24</td>\n",
       "      <td>Belt</td>\n",
       "      <td>2014-09-27 07:13:03</td>\n",
       "    </tr>\n",
       "    <tr>\n",
       "      <th>1</th>\n",
       "      <td>Heidenreich-Bosco</td>\n",
       "      <td>1018.78</td>\n",
       "      <td>Shoes</td>\n",
       "      <td>2014-07-29 02:10:44</td>\n",
       "    </tr>\n",
       "    <tr>\n",
       "      <th>2</th>\n",
       "      <td>Kerluke, Reilly and Bechtelar</td>\n",
       "      <td>289.92</td>\n",
       "      <td>Shirt</td>\n",
       "      <td>2014-03-01 10:51:24</td>\n",
       "    </tr>\n",
       "    <tr>\n",
       "      <th>3</th>\n",
       "      <td>Waters-Walker</td>\n",
       "      <td>413.40</td>\n",
       "      <td>Shirt</td>\n",
       "      <td>2013-11-17 20:41:11</td>\n",
       "    </tr>\n",
       "    <tr>\n",
       "      <th>4</th>\n",
       "      <td>Waelchi-Fahey</td>\n",
       "      <td>1793.52</td>\n",
       "      <td>Shirt</td>\n",
       "      <td>2014-01-03 08:14:27</td>\n",
       "    </tr>\n",
       "  </tbody>\n",
       "</table>\n",
       "</div>"
      ],
      "text/plain": [
       "                            name  ext price category                date\n",
       "0                    Carroll PLC     578.24     Belt 2014-09-27 07:13:03\n",
       "1              Heidenreich-Bosco    1018.78    Shoes 2014-07-29 02:10:44\n",
       "2  Kerluke, Reilly and Bechtelar     289.92    Shirt 2014-03-01 10:51:24\n",
       "3                  Waters-Walker     413.40    Shirt 2013-11-17 20:41:11\n",
       "4                  Waelchi-Fahey    1793.52    Shirt 2014-01-03 08:14:27"
      ]
     },
     "execution_count": 33,
     "metadata": {},
     "output_type": "execute_result"
    }
   ],
   "source": [
    "#remove some columns to make the analysis easier\n",
    "customers = raw[['name', 'ext price', 'category', 'date']] \n",
    "customers.head()"
   ]
  },
  {
   "cell_type": "code",
   "execution_count": 34,
   "metadata": {
    "colab": {
     "autoexec": {
      "startup": false,
      "wait_interval": 0
     }
    },
    "colab_type": "code",
    "id": "uRNEUAw_ocw6"
   },
   "outputs": [
    {
     "data": {
      "text/plain": [
       "name\n",
       "Berge LLC                        52\n",
       "Carroll PLC                      57\n",
       "Cole-Eichmann                    51\n",
       "Davis, Kshlerin and Reilly       41\n",
       "Ernser, Cruickshank and Lind     47\n",
       "Gorczany-Hahn                    42\n",
       "Hamill-Hackett                   44\n",
       "Hegmann and Sons                 58\n",
       "Heidenreich-Bosco                40\n",
       "Huel-Haag                        43\n",
       "Kerluke, Reilly and Bechtelar    52\n",
       "Kihn, McClure and Denesik        58\n",
       "Kilback-Gerlach                  45\n",
       "Koelpin PLC                      53\n",
       "Kunze Inc                        54\n",
       "Kuphal, Zieme and Kub            52\n",
       "Senger, Upton and Breitenberg    59\n",
       "Volkman, Goyette and Lemke       48\n",
       "Waelchi-Fahey                    54\n",
       "Waters-Walker                    50\n",
       "dtype: int64"
      ]
     },
     "execution_count": 34,
     "metadata": {},
     "output_type": "execute_result"
    }
   ],
   "source": [
    "customer_group = customers.groupby('name')\n",
    "customer_group.size()"
   ]
  },
  {
   "cell_type": "code",
   "execution_count": 35,
   "metadata": {
    "colab": {
     "autoexec": {
      "startup": false,
      "wait_interval": 0
     }
    },
    "colab_type": "code",
    "id": "n01CNED8oqEC"
   },
   "outputs": [
    {
     "data": {
      "image/png": "[encoded data removed]",
      "text/plain": [
       "<Figure size 432x288 with 1 Axes>"
      ]
     },
     "metadata": {},
     "output_type": "display_data"
    }
   ],
   "source": [
    "#simple sales plot\n",
    "sales_totals = customer_group.sum()\n",
    "sales_plot = sales_totals.plot(kind='bar') "
   ]
  },
  {
   "cell_type": "code",
   "execution_count": 36,
   "metadata": {
    "colab": {
     "autoexec": {
      "startup": false,
      "wait_interval": 0
     }
    },
    "colab_type": "code",
    "id": "bxA2rPgqovDL"
   },
   "outputs": [
    {
     "data": {
      "text/plain": [
       "Text(0,0.5,'Sales ($)')"
      ]
     },
     "execution_count": 36,
     "metadata": {},
     "output_type": "execute_result"
    },
    {
     "data": {
      "image/png": "[encoded data removed]",
      "text/plain": [
       "<Figure size 432x288 with 1 Axes>"
      ]
     },
     "metadata": {},
     "output_type": "display_data"
    }
   ],
   "source": [
    "#make it prettier\n",
    "sales_plot = sales_totals.sort_values(by='ext price', ascending=False).plot(kind='bar',legend=None, title=\"Total Sales by Customer\")\n",
    "sales_plot.set_xlabel(\"Customers\")\n",
    "sales_plot.set_ylabel(\"Sales ($)\")"
   ]
  },
  {
   "cell_type": "code",
   "execution_count": 38,
   "metadata": {
    "colab": {
     "autoexec": {
      "startup": false,
      "wait_interval": 0
     }
    },
    "colab_type": "code",
    "id": "yeEcCjBjo-Oi"
   },
   "outputs": [
    {
     "data": {
      "text/html": [
       "<div>\n",
       "<style scoped>\n",
       "    .dataframe tbody tr th:only-of-type {\n",
       "        vertical-align: middle;\n",
       "    }\n",
       "\n",
       "    .dataframe tbody tr th {\n",
       "        vertical-align: top;\n",
       "    }\n",
       "\n",
       "    .dataframe thead th {\n",
       "        text-align: right;\n",
       "    }\n",
       "</style>\n",
       "<table border=\"1\" class=\"dataframe\">\n",
       "  <thead>\n",
       "    <tr style=\"text-align: right;\">\n",
       "      <th></th>\n",
       "      <th>ext price</th>\n",
       "      <th>date</th>\n",
       "    </tr>\n",
       "  </thead>\n",
       "  <tbody>\n",
       "    <tr>\n",
       "      <th>0</th>\n",
       "      <td>578.24</td>\n",
       "      <td>2014-09-27 07:13:03</td>\n",
       "    </tr>\n",
       "    <tr>\n",
       "      <th>1</th>\n",
       "      <td>1018.78</td>\n",
       "      <td>2014-07-29 02:10:44</td>\n",
       "    </tr>\n",
       "    <tr>\n",
       "      <th>2</th>\n",
       "      <td>289.92</td>\n",
       "      <td>2014-03-01 10:51:24</td>\n",
       "    </tr>\n",
       "    <tr>\n",
       "      <th>3</th>\n",
       "      <td>413.40</td>\n",
       "      <td>2013-11-17 20:41:11</td>\n",
       "    </tr>\n",
       "    <tr>\n",
       "      <th>4</th>\n",
       "      <td>1793.52</td>\n",
       "      <td>2014-01-03 08:14:27</td>\n",
       "    </tr>\n",
       "  </tbody>\n",
       "</table>\n",
       "</div>"
      ],
      "text/plain": [
       "   ext price                date\n",
       "0     578.24 2014-09-27 07:13:03\n",
       "1    1018.78 2014-07-29 02:10:44\n",
       "2     289.92 2014-03-01 10:51:24\n",
       "3     413.40 2013-11-17 20:41:11\n",
       "4    1793.52 2014-01-03 08:14:27"
      ]
     },
     "execution_count": 38,
     "metadata": {},
     "output_type": "execute_result"
    }
   ],
   "source": [
    "#now I want to see the purchase frequency, hint: use histogram with ext price\n",
    "#remember to choose just the relevant data first\n",
    "purchase_patterns = raw[['ext price', 'date']]\n",
    "purchase_patterns.head()"
   ]
  },
  {
   "cell_type": "code",
   "execution_count": 39,
   "metadata": {},
   "outputs": [
    {
     "data": {
      "text/plain": [
       "Text(0,0.5,'number of Orders')"
      ]
     },
     "execution_count": 39,
     "metadata": {},
     "output_type": "execute_result"
    },
    {
     "data": {
      "image/png": "[encoded data removed]",
      "text/plain": [
       "<Figure size 432x288 with 1 Axes>"
      ]
     },
     "metadata": {},
     "output_type": "display_data"
    }
   ],
   "source": [
    "purchase_plot = purchase_patterns['ext price'].hist(bins=20)\n",
    "purchase_plot.set_title(\"Purchase Patterns\")\n",
    "purchase_plot.set_xlabel(\"Order Amount($)\")\n",
    "purchase_plot.set_ylabel(\"number of Orders\")"
   ]
  },
  {
   "cell_type": "code",
   "execution_count": 42,
   "metadata": {
    "colab": {
     "autoexec": {
      "startup": false,
      "wait_interval": 0
     }
    },
    "colab_type": "code",
    "id": "xLf8QLCMv9oV"
   },
   "outputs": [
    {
     "data": {
      "text/html": [
       "<div>\n",
       "<style scoped>\n",
       "    .dataframe tbody tr th:only-of-type {\n",
       "        vertical-align: middle;\n",
       "    }\n",
       "\n",
       "    .dataframe tbody tr th {\n",
       "        vertical-align: top;\n",
       "    }\n",
       "\n",
       "    .dataframe thead th {\n",
       "        text-align: right;\n",
       "    }\n",
       "</style>\n",
       "<table border=\"1\" class=\"dataframe\">\n",
       "  <thead>\n",
       "    <tr style=\"text-align: right;\">\n",
       "      <th></th>\n",
       "      <th>ext price</th>\n",
       "    </tr>\n",
       "    <tr>\n",
       "      <th>date</th>\n",
       "      <th></th>\n",
       "    </tr>\n",
       "  </thead>\n",
       "  <tbody>\n",
       "    <tr>\n",
       "      <th>2014-09-27 07:13:03</th>\n",
       "      <td>578.24</td>\n",
       "    </tr>\n",
       "    <tr>\n",
       "      <th>2014-07-29 02:10:44</th>\n",
       "      <td>1018.78</td>\n",
       "    </tr>\n",
       "    <tr>\n",
       "      <th>2014-03-01 10:51:24</th>\n",
       "      <td>289.92</td>\n",
       "    </tr>\n",
       "    <tr>\n",
       "      <th>2013-11-17 20:41:11</th>\n",
       "      <td>413.40</td>\n",
       "    </tr>\n",
       "    <tr>\n",
       "      <th>2014-01-03 08:14:27</th>\n",
       "      <td>1793.52</td>\n",
       "    </tr>\n",
       "  </tbody>\n",
       "</table>\n",
       "</div>"
      ],
      "text/plain": [
       "                     ext price\n",
       "date                          \n",
       "2014-09-27 07:13:03     578.24\n",
       "2014-07-29 02:10:44    1018.78\n",
       "2014-03-01 10:51:24     289.92\n",
       "2013-11-17 20:41:11     413.40\n",
       "2014-01-03 08:14:27    1793.52"
      ]
     },
     "execution_count": 42,
     "metadata": {},
     "output_type": "execute_result"
    }
   ],
   "source": [
    "#how about plotting them into a time serie\n",
    "#hint: resample - changing the frequency of your time series observations.\n",
    "purchase_patterns = raw[['ext price', 'date']]\n",
    "purchase_patterns = purchase_patterns.set_index('date')\n",
    "purchase_patterns.head()"
   ]
  },
  {
   "cell_type": "code",
   "execution_count": 43,
   "metadata": {},
   "outputs": [
    {
     "data": {
      "image/png": "[encoded data removed]",
      "text/plain": [
       "<Figure size 432x288 with 1 Axes>"
      ]
     },
     "metadata": {},
     "output_type": "display_data"
    }
   ],
   "source": [
    "purchase_plot = purchase_patterns.resample('M').sum().plot(title=\"Total Sales by Month\", \n",
    "                                                           legend=None)"
   ]
  },
  {
   "cell_type": "markdown",
   "metadata": {
    "colab_type": "text",
    "id": "j1qb3xCmfVAI"
   },
   "source": [
    "#### 4. save the result"
   ]
  },
  {
   "cell_type": "code",
   "execution_count": 45,
   "metadata": {
    "colab": {
     "autoexec": {
      "startup": false,
      "wait_interval": 0
     }
    },
    "colab_type": "code",
    "id": "pssi8I0MfVAL"
   },
   "outputs": [],
   "source": [
    "fig = purchase_plot.get_figure()\n",
    "fig.savefig(\"total-sales.png\")\n"
   ]
  },
  {
   "cell_type": "markdown",
   "metadata": {},
   "source": [
    "# Heading"
   ]
  },
  {
   "cell_type": "markdown",
   "metadata": {},
   "source": [
    "something here"
   ]
  }
 ],
 "metadata": {
  "colab": {
   "collapsed_sections": [],
   "default_view": {},
   "name": "Python_Workshop.ipynb",
   "provenance": [],
   "version": "0.3.2",
   "views": {}
  },
  "kernelspec": {
   "display_name": "Python 3",
   "language": "python",
   "name": "python3"
  },
  "language_info": {
   "codemirror_mode": {
    "name": "ipython",
    "version": 3
   },
   "file_extension": ".py",
   "mimetype": "text/x-python",
   "name": "python",
   "nbconvert_exporter": "python",
   "pygments_lexer": "ipython3",
   "version": "3.6.5"
  }
 },
 "nbformat": 4,
 "nbformat_minor": 1
}
